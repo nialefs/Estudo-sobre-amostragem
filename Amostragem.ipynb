{
 "cells": [
  {
   "cell_type": "markdown",
   "id": "91ad6211",
   "metadata": {},
   "source": [
    "## Amostragem"
   ]
  },
  {
   "cell_type": "markdown",
   "id": "abf2874b",
   "metadata": {},
   "source": [
    "Existem diferentes tipos de amostragem, sendo elas:\n",
    "- Amostragem aleatória simples\n",
    "- Amostragem sistemática\n",
    "- Amostragem por grupos\n",
    "- Amostragem estratificada\n",
    "- Amostragem de reservatório\n",
    "\n",
    "A fim de estudo para observar como cada uma funciona, foi importado um aquivo no formato CSV chamado 'census.csv'. Após as demonstrações, é apresentado um exercício com outra base de dados também no formato CSV chamada 'credit_data.csv'"
   ]
  },
  {
   "cell_type": "markdown",
   "id": "d24e7feb",
   "metadata": {},
   "source": [
    "### Importando as bibliotecas e carregando a base de dados"
   ]
  },
  {
   "cell_type": "code",
   "execution_count": 2,
   "id": "b96e05c5",
   "metadata": {},
   "outputs": [],
   "source": [
    "import pandas as pd\n",
    "import random\n",
    "import numpy as np"
   ]
  },
  {
   "cell_type": "code",
   "execution_count": 3,
   "id": "b7f420c1",
   "metadata": {},
   "outputs": [
    {
     "data": {
      "text/html": [
       "<div>\n",
       "<style scoped>\n",
       "    .dataframe tbody tr th:only-of-type {\n",
       "        vertical-align: middle;\n",
       "    }\n",
       "\n",
       "    .dataframe tbody tr th {\n",
       "        vertical-align: top;\n",
       "    }\n",
       "\n",
       "    .dataframe thead th {\n",
       "        text-align: right;\n",
       "    }\n",
       "</style>\n",
       "<table border=\"1\" class=\"dataframe\">\n",
       "  <thead>\n",
       "    <tr style=\"text-align: right;\">\n",
       "      <th></th>\n",
       "      <th>age</th>\n",
       "      <th>workclass</th>\n",
       "      <th>final-weight</th>\n",
       "      <th>education</th>\n",
       "      <th>education-num</th>\n",
       "      <th>marital-status</th>\n",
       "      <th>occupation</th>\n",
       "      <th>relationship</th>\n",
       "      <th>race</th>\n",
       "      <th>sex</th>\n",
       "      <th>capital-gain</th>\n",
       "      <th>capital-loos</th>\n",
       "      <th>hour-per-week</th>\n",
       "      <th>native-country</th>\n",
       "      <th>income</th>\n",
       "    </tr>\n",
       "  </thead>\n",
       "  <tbody>\n",
       "    <tr>\n",
       "      <th>0</th>\n",
       "      <td>39</td>\n",
       "      <td>State-gov</td>\n",
       "      <td>77516</td>\n",
       "      <td>Bachelors</td>\n",
       "      <td>13</td>\n",
       "      <td>Never-married</td>\n",
       "      <td>Adm-clerical</td>\n",
       "      <td>Not-in-family</td>\n",
       "      <td>White</td>\n",
       "      <td>Male</td>\n",
       "      <td>2174</td>\n",
       "      <td>0</td>\n",
       "      <td>40</td>\n",
       "      <td>United-States</td>\n",
       "      <td>&lt;=50K</td>\n",
       "    </tr>\n",
       "    <tr>\n",
       "      <th>1</th>\n",
       "      <td>50</td>\n",
       "      <td>Self-emp-not-inc</td>\n",
       "      <td>83311</td>\n",
       "      <td>Bachelors</td>\n",
       "      <td>13</td>\n",
       "      <td>Married-civ-spouse</td>\n",
       "      <td>Exec-managerial</td>\n",
       "      <td>Husband</td>\n",
       "      <td>White</td>\n",
       "      <td>Male</td>\n",
       "      <td>0</td>\n",
       "      <td>0</td>\n",
       "      <td>13</td>\n",
       "      <td>United-States</td>\n",
       "      <td>&lt;=50K</td>\n",
       "    </tr>\n",
       "    <tr>\n",
       "      <th>2</th>\n",
       "      <td>38</td>\n",
       "      <td>Private</td>\n",
       "      <td>215646</td>\n",
       "      <td>HS-grad</td>\n",
       "      <td>9</td>\n",
       "      <td>Divorced</td>\n",
       "      <td>Handlers-cleaners</td>\n",
       "      <td>Not-in-family</td>\n",
       "      <td>White</td>\n",
       "      <td>Male</td>\n",
       "      <td>0</td>\n",
       "      <td>0</td>\n",
       "      <td>40</td>\n",
       "      <td>United-States</td>\n",
       "      <td>&lt;=50K</td>\n",
       "    </tr>\n",
       "    <tr>\n",
       "      <th>3</th>\n",
       "      <td>53</td>\n",
       "      <td>Private</td>\n",
       "      <td>234721</td>\n",
       "      <td>11th</td>\n",
       "      <td>7</td>\n",
       "      <td>Married-civ-spouse</td>\n",
       "      <td>Handlers-cleaners</td>\n",
       "      <td>Husband</td>\n",
       "      <td>Black</td>\n",
       "      <td>Male</td>\n",
       "      <td>0</td>\n",
       "      <td>0</td>\n",
       "      <td>40</td>\n",
       "      <td>United-States</td>\n",
       "      <td>&lt;=50K</td>\n",
       "    </tr>\n",
       "    <tr>\n",
       "      <th>4</th>\n",
       "      <td>28</td>\n",
       "      <td>Private</td>\n",
       "      <td>338409</td>\n",
       "      <td>Bachelors</td>\n",
       "      <td>13</td>\n",
       "      <td>Married-civ-spouse</td>\n",
       "      <td>Prof-specialty</td>\n",
       "      <td>Wife</td>\n",
       "      <td>Black</td>\n",
       "      <td>Female</td>\n",
       "      <td>0</td>\n",
       "      <td>0</td>\n",
       "      <td>40</td>\n",
       "      <td>Cuba</td>\n",
       "      <td>&lt;=50K</td>\n",
       "    </tr>\n",
       "  </tbody>\n",
       "</table>\n",
       "</div>"
      ],
      "text/plain": [
       "   age          workclass  final-weight   education  education-num  \\\n",
       "0   39          State-gov         77516   Bachelors             13   \n",
       "1   50   Self-emp-not-inc         83311   Bachelors             13   \n",
       "2   38            Private        215646     HS-grad              9   \n",
       "3   53            Private        234721        11th              7   \n",
       "4   28            Private        338409   Bachelors             13   \n",
       "\n",
       "        marital-status          occupation    relationship    race      sex  \\\n",
       "0        Never-married        Adm-clerical   Not-in-family   White     Male   \n",
       "1   Married-civ-spouse     Exec-managerial         Husband   White     Male   \n",
       "2             Divorced   Handlers-cleaners   Not-in-family   White     Male   \n",
       "3   Married-civ-spouse   Handlers-cleaners         Husband   Black     Male   \n",
       "4   Married-civ-spouse      Prof-specialty            Wife   Black   Female   \n",
       "\n",
       "   capital-gain  capital-loos  hour-per-week  native-country  income  \n",
       "0          2174             0             40   United-States   <=50K  \n",
       "1             0             0             13   United-States   <=50K  \n",
       "2             0             0             40   United-States   <=50K  \n",
       "3             0             0             40   United-States   <=50K  \n",
       "4             0             0             40            Cuba   <=50K  "
      ]
     },
     "execution_count": 3,
     "metadata": {},
     "output_type": "execute_result"
    }
   ],
   "source": [
    "dataset = pd.read_csv('census.csv')\n",
    "dataset.head()"
   ]
  },
  {
   "cell_type": "markdown",
   "id": "5dc2a5bd",
   "metadata": {},
   "source": [
    "### Amostragem aleatória simples"
   ]
  },
  {
   "cell_type": "markdown",
   "id": "b05a3fc0",
   "metadata": {},
   "source": [
    "De todos os tipos de amostragem, esta é a mais simples. Neste método, todos os elementos de uma população tem a mesma probabilidade de estarem na amostra."
   ]
  },
  {
   "cell_type": "code",
   "execution_count": 4,
   "id": "7e4cf68d",
   "metadata": {},
   "outputs": [],
   "source": [
    "# Um método para resolução:\n",
    "\n",
    "df_amostra_aleatoria_simples = dataset.sample(n = 100)\n",
    "\n",
    "# Onde 'n' é o número de amostras desejadas"
   ]
  },
  {
   "cell_type": "code",
   "execution_count": 49,
   "id": "15fe729a",
   "metadata": {},
   "outputs": [],
   "source": [
    "# Um outro método, é construindo uma função e passando como argumentos a base de dados\n",
    "# que se deseja trabalhar e a quantidade de amostras desejadas:\n",
    "\n",
    "def amostragem_aleatoria_simples(dataset, amostras):\n",
    "    return dataset.sample(n = amostras, random_state=1)\n",
    "\n",
    "df_amostra_aleatoria_simples = amostragem_aleatoria_simples(dataset, 100)"
   ]
  },
  {
   "cell_type": "markdown",
   "id": "f9519b52",
   "metadata": {},
   "source": [
    "### Amostragem sistemática"
   ]
  },
  {
   "cell_type": "markdown",
   "id": "f50b7874",
   "metadata": {},
   "source": [
    "É uma variação da amostragem aleatória simples. Neste tipo de amostragem, se faz uma seleção aleatória do primeiro elemento para a amostra e logo se selecionam os itens subsequentes utilizando intervalos fixos (ou sistemáticos) até chegar ao tamanho da amostra desejada"
   ]
  },
  {
   "cell_type": "code",
   "execution_count": 51,
   "id": "bf275b68",
   "metadata": {},
   "outputs": [
    {
     "data": {
      "text/plain": [
       "325"
      ]
     },
     "execution_count": 51,
     "metadata": {},
     "output_type": "execute_result"
    }
   ],
   "source": [
    "# É dividido o tamanho da base de dados pelo número de amostras para ver o intervalo de seleção das amostras\n",
    "\n",
    "len(dataset)//100"
   ]
  },
  {
   "cell_type": "code",
   "execution_count": 50,
   "id": "62d753ab",
   "metadata": {},
   "outputs": [
    {
     "data": {
      "text/plain": [
       "68"
      ]
     },
     "execution_count": 50,
     "metadata": {},
     "output_type": "execute_result"
    }
   ],
   "source": [
    "# Feita a divisão, é realizada uma seleção aleatória de por onde será iniciada a contagem\n",
    "\n",
    "random.seed(1)\n",
    "random.randint(0, 325)"
   ]
  },
  {
   "cell_type": "code",
   "execution_count": 8,
   "id": "6e23e032",
   "metadata": {},
   "outputs": [
    {
     "data": {
      "text/plain": [
       "array([   68,   393,   718,  1043,  1368,  1693,  2018,  2343,  2668,\n",
       "        2993,  3318,  3643,  3968,  4293,  4618,  4943,  5268,  5593,\n",
       "        5918,  6243,  6568,  6893,  7218,  7543,  7868,  8193,  8518,\n",
       "        8843,  9168,  9493,  9818, 10143, 10468, 10793, 11118, 11443,\n",
       "       11768, 12093, 12418, 12743, 13068, 13393, 13718, 14043, 14368,\n",
       "       14693, 15018, 15343, 15668, 15993, 16318, 16643, 16968, 17293,\n",
       "       17618, 17943, 18268, 18593, 18918, 19243, 19568, 19893, 20218,\n",
       "       20543, 20868, 21193, 21518, 21843, 22168, 22493, 22818, 23143,\n",
       "       23468, 23793, 24118, 24443, 24768, 25093, 25418, 25743, 26068,\n",
       "       26393, 26718, 27043, 27368, 27693, 28018, 28343, 28668, 28993,\n",
       "       29318, 29643, 29968, 30293, 30618, 30943, 31268, 31593, 31918,\n",
       "       32243])"
      ]
     },
     "execution_count": 8,
     "metadata": {},
     "output_type": "execute_result"
    }
   ],
   "source": [
    "# Com o auxílio da biblioteca Numpy, coloca-se o elemento obtido no passo anterior, o elemento final,\n",
    "# que é o tamanho da base de dados e o passo, obtido no primeiro passo e tem-se como resultado um array\n",
    "\n",
    "np.arange(68, len(dataset), step = 325)"
   ]
  },
  {
   "cell_type": "code",
   "execution_count": 52,
   "id": "19c88dbb",
   "metadata": {},
   "outputs": [],
   "source": [
    "# Outra maneira de realizar esta amostragem, é por meio de uma função, sendo passado como parâmetros a\n",
    "# base de dados e o número de amostras desejadas\n",
    "\n",
    "def amostragem_sistematica(dataset, amostras):\n",
    "    intervalo = len(dataset) // amostras\n",
    "    random.seed(1)\n",
    "    inicio = random.randint(0, intervalo)\n",
    "    indices = np.arange(inicio, len(dataset), step = intervalo)\n",
    "    amostra_sistematica = dataset.iloc[indices]\n",
    "    return amostra_sistematica\n",
    "\n",
    "df_amostra_sistematica = amostragem_sistematica(dataset, 100)"
   ]
  },
  {
   "cell_type": "markdown",
   "id": "45ddbbdc",
   "metadata": {},
   "source": [
    "### Amostragem por grupos"
   ]
  },
  {
   "cell_type": "markdown",
   "id": "6504a572",
   "metadata": {},
   "source": [
    "Amostragem por grupos (ou por conglomerados) é um procedimento em que os elementos da população são selecionados aleatoriamente de forma natural por grupos (clusters)"
   ]
  },
  {
   "cell_type": "code",
   "execution_count": 11,
   "id": "f47cd806",
   "metadata": {},
   "outputs": [
    {
     "data": {
      "text/plain": [
       "3256.1"
      ]
     },
     "execution_count": 11,
     "metadata": {},
     "output_type": "execute_result"
    }
   ],
   "source": [
    "# É dividido o tamanho da base de dados pelo número de grupos desejado para ver\n",
    "# a quantidade de elementos em ada um dos grupos\n",
    "\n",
    "len(dataset) / 10"
   ]
  },
  {
   "cell_type": "code",
   "execution_count": 12,
   "id": "0ce74b6d",
   "metadata": {},
   "outputs": [],
   "source": [
    "# É criada uma lista vazia para serem inseridos os grupos e duas variáveis com o valor 0 atribuídas à elas.\n",
    "# Na variável 'id_grupo', será atribuido o número de cada um dos grupos e a variável 'conragem' é responsável\n",
    "# por contar quantos elementos existem em um grupo. Quanto a contagem chegar ao limite calculado\n",
    "# anteriormente, irá iniciar a contagem para outro grupo\n",
    "\n",
    "grupos = []\n",
    "id_grupo = 0\n",
    "contagem = 0\n",
    "for _ in dataset.iterrows():\n",
    "    grupos.append(id_grupo)\n",
    "    contagem += 1\n",
    "    if contagem > 3256:\n",
    "        contagem = 0\n",
    "        id_grupo += 1"
   ]
  },
  {
   "cell_type": "code",
   "execution_count": 13,
   "id": "552e40e5",
   "metadata": {},
   "outputs": [
    {
     "data": {
      "text/plain": [
       "(array([0, 1, 2, 3, 4, 5, 6, 7, 8, 9]),\n",
       " array([3257, 3257, 3257, 3257, 3257, 3257, 3257, 3257, 3257, 3248],\n",
       "       dtype=int64))"
      ]
     },
     "execution_count": 13,
     "metadata": {},
     "output_type": "execute_result"
    }
   ],
   "source": [
    "# Neste caso, 'grupos' retorna o número atribuído a cada grupo e 'return_counts=True' retorna quantos\n",
    "# elementos há em cada grupo e neste caso não é o mesmo valor obtido da primeira divisão pois o valor \n",
    "# obtido não era inteiro\n",
    "\n",
    "np.unique(grupos, return_counts=True)"
   ]
  },
  {
   "cell_type": "code",
   "execution_count": 14,
   "id": "b98ee92b",
   "metadata": {},
   "outputs": [
    {
     "data": {
      "text/plain": [
       "((32561,), (32561, 15))"
      ]
     },
     "execution_count": 14,
     "metadata": {},
     "output_type": "execute_result"
    }
   ],
   "source": [
    "# Os grupos formados devem ter o mesmo shape do banco de dados original, como é possível ver abaixo\n",
    "\n",
    "np.shape(grupos), dataset.shape"
   ]
  },
  {
   "cell_type": "code",
   "execution_count": 53,
   "id": "75a4b77d",
   "metadata": {},
   "outputs": [],
   "source": [
    "# Adicionando ao banco de dados original a coluna 'grupos'\n",
    "\n",
    "dataset['grupo'] = grupos"
   ]
  },
  {
   "cell_type": "code",
   "execution_count": 54,
   "id": "466d1392",
   "metadata": {},
   "outputs": [],
   "source": [
    "# Construindo uma fórmula para a amostragem por agrupamento, tendo os atributos banco de dados\n",
    "# e número de grupos desejados\n",
    "\n",
    "def amostragem_agrupamento(dataset, numero_grupos):\n",
    "    intervalo = len(dataset) / numero_grupos\n",
    "    \n",
    "    grupos = []\n",
    "    id_grupo = 0\n",
    "    contagem = 0\n",
    "    for _ in dataset.iterrows():\n",
    "        grupos.append(id_grupo)\n",
    "        contagem += 1\n",
    "        if contagem > intervalo:\n",
    "            contagem = 0\n",
    "            id_grupo += 1\n",
    "    dataset['grupo'] = grupos\n",
    "    random.seed(1)\n",
    "    grupo_selecionado = random.randint(0, numero_grupos)\n",
    "    return dataset[dataset['grupo'] == grupo_selecionado]\n",
    "\n",
    "df_amostra_agrupamento = amostragem_agrupamento(dataset, 100)"
   ]
  },
  {
   "cell_type": "markdown",
   "id": "aff8b4fe",
   "metadata": {},
   "source": [
    "### Amostragem estratificada"
   ]
  },
  {
   "cell_type": "markdown",
   "id": "1e8cce79",
   "metadata": {},
   "source": [
    "Consiste em dividir a população em subgrupos (“estratos”) que denotem uma homogeneidade maior que a homogeneidade da população toda, sob a análise de variáveis de estudo. Uma vez selecionados os “estratos”, sobre cada um deles são realizadas seleções aleatórias de forma independente, obtendo-se amostras parciais, que agregadas representam a amostra completa. Uma amostra estratificada proporcional garante que cada elemento da população tenha a mesma probabilidade de pertencer à amostra.\n",
    "\n",
    "A amostragem estratificada é usada para destacar as diferenças entre os grupos em uma população, em oposição à amostragem aleatória simples, que trata todos os membros de uma população como iguais, com uma probabilidade igual de serem amostrados."
   ]
  },
  {
   "cell_type": "code",
   "execution_count": 19,
   "id": "ceabe893",
   "metadata": {},
   "outputs": [],
   "source": [
    "# Importando a biblioteca StratifiedShuffleSplit do sklearn a fim de realizar a amostragem estratificada\n",
    "\n",
    "from sklearn.model_selection import StratifiedShuffleSplit"
   ]
  },
  {
   "cell_type": "code",
   "execution_count": 55,
   "id": "55256efd",
   "metadata": {},
   "outputs": [
    {
     "data": {
      "text/plain": [
       " <=50K    24720\n",
       " >50K      7841\n",
       "Name: income, dtype: int64"
      ]
     },
     "execution_count": 55,
     "metadata": {},
     "output_type": "execute_result"
    }
   ],
   "source": [
    "# Da coluna 'income' da base da dados, é visto a proporção dos valores menores ou iguais a 50Ke maiores\n",
    "# do que 50K\n",
    "\n",
    "dataset['income'].value_counts()"
   ]
  },
  {
   "cell_type": "code",
   "execution_count": 21,
   "id": "f0aad581",
   "metadata": {},
   "outputs": [
    {
     "data": {
      "text/plain": [
       "(0.2408095574460244, 0.7591904425539756)"
      ]
     },
     "execution_count": 21,
     "metadata": {},
     "output_type": "execute_result"
    }
   ],
   "source": [
    "#Dividindo estes valores pelo tamanho da base de dados, é obtida a proporção destes valores no todo\n",
    "\n",
    "7841 / len(dataset), 24720 / len(dataset)"
   ]
  },
  {
   "cell_type": "code",
   "execution_count": 59,
   "id": "1ec9b35b",
   "metadata": {},
   "outputs": [
    {
     "data": {
      "text/plain": [
       "0.0030711587481956942"
      ]
     },
     "execution_count": 59,
     "metadata": {},
     "output_type": "execute_result"
    }
   ],
   "source": [
    "# É desejado 100 amostras para a base de dados toda, portanto divide-se 100 pelo tamanho da base de dados\n",
    "# e obtém-se o tamanho do teste para dividir de maneira uniforme entre as amostras\n",
    "\n",
    "100 / len(dataset)"
   ]
  },
  {
   "cell_type": "code",
   "execution_count": 22,
   "id": "55f40b9b",
   "metadata": {},
   "outputs": [
    {
     "data": {
      "text/plain": [
       "((32461, 16), (100, 16))"
      ]
     },
     "execution_count": 22,
     "metadata": {},
     "output_type": "execute_result"
    }
   ],
   "source": [
    "split = StratifiedShuffleSplit(test_size=0.0030711587481956942)\n",
    "for x, y in split.split(dataset, dataset['income']): # x coloca 90% e y 10%\n",
    "    df_x = dataset.iloc[x]\n",
    "    df_y = dataset.iloc[y]\n",
    "    \n",
    "df_x.shape, df_y.shape"
   ]
  },
  {
   "cell_type": "code",
   "execution_count": 24,
   "id": "51a4cb30",
   "metadata": {},
   "outputs": [
    {
     "data": {
      "text/plain": [
       " <=50K    76\n",
       " >50K     24\n",
       "Name: income, dtype: int64"
      ]
     },
     "execution_count": 24,
     "metadata": {},
     "output_type": "execute_result"
    }
   ],
   "source": [
    "df_y['income'].value_counts()"
   ]
  },
  {
   "cell_type": "code",
   "execution_count": 60,
   "id": "7d0f6e42",
   "metadata": {},
   "outputs": [],
   "source": [
    "# Definindo uma função para este tipo de amostragem\n",
    "\n",
    "def amostragem_estratificada(dataset, percentual):\n",
    "    split = StratifiedShuffleSplit(test_size=percentual, random_state=1)\n",
    "    for _, y in split.split(dataset, dataset['income']): #x coloca 90% e y 10%\n",
    "        df_y = dataset.iloc[y]\n",
    "    return df_y\n",
    "\n",
    "df_amostra_estratificada = amostragem_estratificada(dataset, 0.0030711587481956942)"
   ]
  },
  {
   "cell_type": "markdown",
   "id": "f58f01e8",
   "metadata": {},
   "source": [
    "### Amostragem de reservatório"
   ]
  },
  {
   "cell_type": "markdown",
   "id": "8396add0",
   "metadata": {},
   "source": [
    "Neste modelo de amostragem, o algoritmo irá sortear um item do stream, porém, cada item deve possuir a mesma probabilidade de seleção"
   ]
  },
  {
   "cell_type": "code",
   "execution_count": 65,
   "id": "551065eb",
   "metadata": {},
   "outputs": [],
   "source": [
    "stream = []\n",
    "for i in range(len(dataset)):\n",
    "    stream.append(i)"
   ]
  },
  {
   "cell_type": "code",
   "execution_count": 61,
   "id": "0a68e4f5",
   "metadata": {},
   "outputs": [],
   "source": [
    "# Definindo a função para a amostragem de reservatório\n",
    "\n",
    "def amostragem_reservatorio(dataset, amostras):\n",
    "    stream = []\n",
    "    for i in range(len(dataset)):\n",
    "        stream.append(i)\n",
    "    \n",
    "    i = 0\n",
    "    tamanho = len(dataset)\n",
    "    \n",
    "    reservatorio = [0] * amostras\n",
    "    for i in range(amostras):\n",
    "        reservatorio[i] = stream[i]\n",
    "    \n",
    "    while i < tamanho:\n",
    "        j = random.randrange(i + 1)\n",
    "        if j < amostras:\n",
    "            reservatorio[j] = stream[i]\n",
    "        i += 1\n",
    "    \n",
    "    return dataset.iloc[reservatorio]\n",
    "\n",
    "df_amostragem_reservatorio = amostragem_reservatorio(dataset, 100)"
   ]
  },
  {
   "cell_type": "markdown",
   "id": "bfcf14b8",
   "metadata": {},
   "source": [
    "## Exercício"
   ]
  },
  {
   "cell_type": "code",
   "execution_count": 67,
   "id": "1f0ed8b4",
   "metadata": {},
   "outputs": [],
   "source": [
    "# Neste exercício, foi importada a base de dados 'credit_data.csv' e deve ser feita uma amostragem com\n",
    "# 1000 amostras e com cada uma das amostragens apresentadas, sendo ao final mostrado as médias \n",
    "# das colunas 'age', 'income' e 'loan'\n",
    "\n",
    "credit = pd.read_csv('credit_data.csv')"
   ]
  },
  {
   "cell_type": "code",
   "execution_count": 37,
   "id": "b1252a6b",
   "metadata": {},
   "outputs": [
    {
     "data": {
      "text/html": [
       "<div>\n",
       "<style scoped>\n",
       "    .dataframe tbody tr th:only-of-type {\n",
       "        vertical-align: middle;\n",
       "    }\n",
       "\n",
       "    .dataframe tbody tr th {\n",
       "        vertical-align: top;\n",
       "    }\n",
       "\n",
       "    .dataframe thead th {\n",
       "        text-align: right;\n",
       "    }\n",
       "</style>\n",
       "<table border=\"1\" class=\"dataframe\">\n",
       "  <thead>\n",
       "    <tr style=\"text-align: right;\">\n",
       "      <th></th>\n",
       "      <th>i#clientid</th>\n",
       "      <th>income</th>\n",
       "      <th>age</th>\n",
       "      <th>loan</th>\n",
       "      <th>c#default</th>\n",
       "    </tr>\n",
       "  </thead>\n",
       "  <tbody>\n",
       "    <tr>\n",
       "      <th>674</th>\n",
       "      <td>675</td>\n",
       "      <td>34158.633968</td>\n",
       "      <td>29.421142</td>\n",
       "      <td>2911.408067</td>\n",
       "      <td>0</td>\n",
       "    </tr>\n",
       "    <tr>\n",
       "      <th>1699</th>\n",
       "      <td>1700</td>\n",
       "      <td>25789.742025</td>\n",
       "      <td>45.316211</td>\n",
       "      <td>4442.331780</td>\n",
       "      <td>0</td>\n",
       "    </tr>\n",
       "    <tr>\n",
       "      <th>1282</th>\n",
       "      <td>1283</td>\n",
       "      <td>59589.064289</td>\n",
       "      <td>20.609764</td>\n",
       "      <td>4191.715856</td>\n",
       "      <td>0</td>\n",
       "    </tr>\n",
       "    <tr>\n",
       "      <th>1315</th>\n",
       "      <td>1316</td>\n",
       "      <td>49908.291867</td>\n",
       "      <td>29.550940</td>\n",
       "      <td>2903.036128</td>\n",
       "      <td>0</td>\n",
       "    </tr>\n",
       "    <tr>\n",
       "      <th>1210</th>\n",
       "      <td>1211</td>\n",
       "      <td>69132.462579</td>\n",
       "      <td>33.471182</td>\n",
       "      <td>7621.410219</td>\n",
       "      <td>0</td>\n",
       "    </tr>\n",
       "    <tr>\n",
       "      <th>...</th>\n",
       "      <td>...</td>\n",
       "      <td>...</td>\n",
       "      <td>...</td>\n",
       "      <td>...</td>\n",
       "      <td>...</td>\n",
       "    </tr>\n",
       "    <tr>\n",
       "      <th>103</th>\n",
       "      <td>104</td>\n",
       "      <td>57296.160823</td>\n",
       "      <td>25.708482</td>\n",
       "      <td>10601.082783</td>\n",
       "      <td>1</td>\n",
       "    </tr>\n",
       "    <tr>\n",
       "      <th>9</th>\n",
       "      <td>10</td>\n",
       "      <td>25075.872771</td>\n",
       "      <td>39.776378</td>\n",
       "      <td>1409.230371</td>\n",
       "      <td>0</td>\n",
       "    </tr>\n",
       "    <tr>\n",
       "      <th>1929</th>\n",
       "      <td>1930</td>\n",
       "      <td>27514.088473</td>\n",
       "      <td>36.278684</td>\n",
       "      <td>192.144611</td>\n",
       "      <td>0</td>\n",
       "    </tr>\n",
       "    <tr>\n",
       "      <th>543</th>\n",
       "      <td>544</td>\n",
       "      <td>55476.656980</td>\n",
       "      <td>52.089203</td>\n",
       "      <td>4733.505830</td>\n",
       "      <td>0</td>\n",
       "    </tr>\n",
       "    <tr>\n",
       "      <th>1542</th>\n",
       "      <td>1543</td>\n",
       "      <td>37895.181733</td>\n",
       "      <td>54.515149</td>\n",
       "      <td>6071.340205</td>\n",
       "      <td>0</td>\n",
       "    </tr>\n",
       "  </tbody>\n",
       "</table>\n",
       "<p>1000 rows × 5 columns</p>\n",
       "</div>"
      ],
      "text/plain": [
       "      i#clientid        income        age          loan  c#default\n",
       "674          675  34158.633968  29.421142   2911.408067          0\n",
       "1699        1700  25789.742025  45.316211   4442.331780          0\n",
       "1282        1283  59589.064289  20.609764   4191.715856          0\n",
       "1315        1316  49908.291867  29.550940   2903.036128          0\n",
       "1210        1211  69132.462579  33.471182   7621.410219          0\n",
       "...          ...           ...        ...           ...        ...\n",
       "103          104  57296.160823  25.708482  10601.082783          1\n",
       "9             10  25075.872771  39.776378   1409.230371          0\n",
       "1929        1930  27514.088473  36.278684    192.144611          0\n",
       "543          544  55476.656980  52.089203   4733.505830          0\n",
       "1542        1543  37895.181733  54.515149   6071.340205          0\n",
       "\n",
       "[1000 rows x 5 columns]"
      ]
     },
     "execution_count": 37,
     "metadata": {},
     "output_type": "execute_result"
    }
   ],
   "source": [
    "# Amostragem aleatória simples\n",
    "\n",
    "def amostragem_aleatoria_simples1(credit, amostras):\n",
    "    return credit.sample(n = amostras, random_state=1)\n",
    "\n",
    "amostragem_aleatoria_simples1(credit, 1000)"
   ]
  },
  {
   "cell_type": "code",
   "execution_count": 38,
   "id": "853040cf",
   "metadata": {},
   "outputs": [
    {
     "data": {
      "text/html": [
       "<div>\n",
       "<style scoped>\n",
       "    .dataframe tbody tr th:only-of-type {\n",
       "        vertical-align: middle;\n",
       "    }\n",
       "\n",
       "    .dataframe tbody tr th {\n",
       "        vertical-align: top;\n",
       "    }\n",
       "\n",
       "    .dataframe thead th {\n",
       "        text-align: right;\n",
       "    }\n",
       "</style>\n",
       "<table border=\"1\" class=\"dataframe\">\n",
       "  <thead>\n",
       "    <tr style=\"text-align: right;\">\n",
       "      <th></th>\n",
       "      <th>i#clientid</th>\n",
       "      <th>income</th>\n",
       "      <th>age</th>\n",
       "      <th>loan</th>\n",
       "      <th>c#default</th>\n",
       "    </tr>\n",
       "  </thead>\n",
       "  <tbody>\n",
       "    <tr>\n",
       "      <th>0</th>\n",
       "      <td>1</td>\n",
       "      <td>66155.925095</td>\n",
       "      <td>59.017015</td>\n",
       "      <td>8106.532131</td>\n",
       "      <td>0</td>\n",
       "    </tr>\n",
       "    <tr>\n",
       "      <th>2</th>\n",
       "      <td>3</td>\n",
       "      <td>57317.170063</td>\n",
       "      <td>63.108049</td>\n",
       "      <td>8020.953296</td>\n",
       "      <td>0</td>\n",
       "    </tr>\n",
       "    <tr>\n",
       "      <th>4</th>\n",
       "      <td>5</td>\n",
       "      <td>66952.688845</td>\n",
       "      <td>18.584336</td>\n",
       "      <td>8770.099235</td>\n",
       "      <td>1</td>\n",
       "    </tr>\n",
       "    <tr>\n",
       "      <th>6</th>\n",
       "      <td>7</td>\n",
       "      <td>48430.359613</td>\n",
       "      <td>26.809132</td>\n",
       "      <td>5722.581981</td>\n",
       "      <td>0</td>\n",
       "    </tr>\n",
       "    <tr>\n",
       "      <th>8</th>\n",
       "      <td>9</td>\n",
       "      <td>40654.892537</td>\n",
       "      <td>55.496853</td>\n",
       "      <td>4755.825280</td>\n",
       "      <td>0</td>\n",
       "    </tr>\n",
       "    <tr>\n",
       "      <th>...</th>\n",
       "      <td>...</td>\n",
       "      <td>...</td>\n",
       "      <td>...</td>\n",
       "      <td>...</td>\n",
       "      <td>...</td>\n",
       "    </tr>\n",
       "    <tr>\n",
       "      <th>1990</th>\n",
       "      <td>1991</td>\n",
       "      <td>34237.575419</td>\n",
       "      <td>34.101654</td>\n",
       "      <td>2658.090632</td>\n",
       "      <td>0</td>\n",
       "    </tr>\n",
       "    <tr>\n",
       "      <th>1992</th>\n",
       "      <td>1993</td>\n",
       "      <td>30803.806165</td>\n",
       "      <td>23.250084</td>\n",
       "      <td>623.024153</td>\n",
       "      <td>0</td>\n",
       "    </tr>\n",
       "    <tr>\n",
       "      <th>1994</th>\n",
       "      <td>1995</td>\n",
       "      <td>24254.700791</td>\n",
       "      <td>37.751622</td>\n",
       "      <td>2225.284643</td>\n",
       "      <td>0</td>\n",
       "    </tr>\n",
       "    <tr>\n",
       "      <th>1996</th>\n",
       "      <td>1997</td>\n",
       "      <td>69516.127573</td>\n",
       "      <td>23.162104</td>\n",
       "      <td>3503.176156</td>\n",
       "      <td>0</td>\n",
       "    </tr>\n",
       "    <tr>\n",
       "      <th>1998</th>\n",
       "      <td>1999</td>\n",
       "      <td>43756.056605</td>\n",
       "      <td>63.971796</td>\n",
       "      <td>1622.722598</td>\n",
       "      <td>0</td>\n",
       "    </tr>\n",
       "  </tbody>\n",
       "</table>\n",
       "<p>1000 rows × 5 columns</p>\n",
       "</div>"
      ],
      "text/plain": [
       "      i#clientid        income        age         loan  c#default\n",
       "0              1  66155.925095  59.017015  8106.532131          0\n",
       "2              3  57317.170063  63.108049  8020.953296          0\n",
       "4              5  66952.688845  18.584336  8770.099235          1\n",
       "6              7  48430.359613  26.809132  5722.581981          0\n",
       "8              9  40654.892537  55.496853  4755.825280          0\n",
       "...          ...           ...        ...          ...        ...\n",
       "1990        1991  34237.575419  34.101654  2658.090632          0\n",
       "1992        1993  30803.806165  23.250084   623.024153          0\n",
       "1994        1995  24254.700791  37.751622  2225.284643          0\n",
       "1996        1997  69516.127573  23.162104  3503.176156          0\n",
       "1998        1999  43756.056605  63.971796  1622.722598          0\n",
       "\n",
       "[1000 rows x 5 columns]"
      ]
     },
     "execution_count": 38,
     "metadata": {},
     "output_type": "execute_result"
    }
   ],
   "source": [
    "# Amostragem sistemática\n",
    "\n",
    "def amostragem_sistematica1(credit, amostras):\n",
    "    intervalo = len(credit) // amostras\n",
    "    random.seed(1)\n",
    "    inicio = random.randint(0, intervalo)\n",
    "    indices = np.arange(inicio, len(credit), step = intervalo)\n",
    "    amostra_sistematica = credit.iloc[indices]\n",
    "    return amostra_sistematica\n",
    "\n",
    "amostragem_sistematica1(credit, 1000)"
   ]
  },
  {
   "cell_type": "code",
   "execution_count": 39,
   "id": "085473f7",
   "metadata": {},
   "outputs": [
    {
     "data": {
      "text/html": [
       "<div>\n",
       "<style scoped>\n",
       "    .dataframe tbody tr th:only-of-type {\n",
       "        vertical-align: middle;\n",
       "    }\n",
       "\n",
       "    .dataframe tbody tr th {\n",
       "        vertical-align: top;\n",
       "    }\n",
       "\n",
       "    .dataframe thead th {\n",
       "        text-align: right;\n",
       "    }\n",
       "</style>\n",
       "<table border=\"1\" class=\"dataframe\">\n",
       "  <thead>\n",
       "    <tr style=\"text-align: right;\">\n",
       "      <th></th>\n",
       "      <th>i#clientid</th>\n",
       "      <th>income</th>\n",
       "      <th>age</th>\n",
       "      <th>loan</th>\n",
       "      <th>c#default</th>\n",
       "      <th>grupo</th>\n",
       "    </tr>\n",
       "  </thead>\n",
       "  <tbody>\n",
       "    <tr>\n",
       "      <th>0</th>\n",
       "      <td>1</td>\n",
       "      <td>66155.925095</td>\n",
       "      <td>59.017015</td>\n",
       "      <td>8106.532131</td>\n",
       "      <td>0</td>\n",
       "      <td>0</td>\n",
       "    </tr>\n",
       "    <tr>\n",
       "      <th>1</th>\n",
       "      <td>2</td>\n",
       "      <td>34415.153966</td>\n",
       "      <td>48.117153</td>\n",
       "      <td>6564.745018</td>\n",
       "      <td>0</td>\n",
       "      <td>0</td>\n",
       "    </tr>\n",
       "    <tr>\n",
       "      <th>2</th>\n",
       "      <td>3</td>\n",
       "      <td>57317.170063</td>\n",
       "      <td>63.108049</td>\n",
       "      <td>8020.953296</td>\n",
       "      <td>0</td>\n",
       "      <td>0</td>\n",
       "    </tr>\n",
       "    <tr>\n",
       "      <th>3</th>\n",
       "      <td>4</td>\n",
       "      <td>42709.534201</td>\n",
       "      <td>45.751972</td>\n",
       "      <td>6103.642260</td>\n",
       "      <td>0</td>\n",
       "      <td>0</td>\n",
       "    </tr>\n",
       "    <tr>\n",
       "      <th>4</th>\n",
       "      <td>5</td>\n",
       "      <td>66952.688845</td>\n",
       "      <td>18.584336</td>\n",
       "      <td>8770.099235</td>\n",
       "      <td>1</td>\n",
       "      <td>0</td>\n",
       "    </tr>\n",
       "    <tr>\n",
       "      <th>...</th>\n",
       "      <td>...</td>\n",
       "      <td>...</td>\n",
       "      <td>...</td>\n",
       "      <td>...</td>\n",
       "      <td>...</td>\n",
       "      <td>...</td>\n",
       "    </tr>\n",
       "    <tr>\n",
       "      <th>996</th>\n",
       "      <td>997</td>\n",
       "      <td>49104.768240</td>\n",
       "      <td>35.538517</td>\n",
       "      <td>9452.217947</td>\n",
       "      <td>0</td>\n",
       "      <td>0</td>\n",
       "    </tr>\n",
       "    <tr>\n",
       "      <th>997</th>\n",
       "      <td>998</td>\n",
       "      <td>65776.232413</td>\n",
       "      <td>39.798191</td>\n",
       "      <td>2805.863745</td>\n",
       "      <td>0</td>\n",
       "      <td>0</td>\n",
       "    </tr>\n",
       "    <tr>\n",
       "      <th>998</th>\n",
       "      <td>999</td>\n",
       "      <td>36192.149452</td>\n",
       "      <td>21.402403</td>\n",
       "      <td>7236.173930</td>\n",
       "      <td>1</td>\n",
       "      <td>0</td>\n",
       "    </tr>\n",
       "    <tr>\n",
       "      <th>999</th>\n",
       "      <td>1000</td>\n",
       "      <td>62165.861186</td>\n",
       "      <td>19.602543</td>\n",
       "      <td>4739.948954</td>\n",
       "      <td>0</td>\n",
       "      <td>0</td>\n",
       "    </tr>\n",
       "    <tr>\n",
       "      <th>1000</th>\n",
       "      <td>1001</td>\n",
       "      <td>50793.355720</td>\n",
       "      <td>41.601886</td>\n",
       "      <td>421.640380</td>\n",
       "      <td>0</td>\n",
       "      <td>0</td>\n",
       "    </tr>\n",
       "  </tbody>\n",
       "</table>\n",
       "<p>1001 rows × 6 columns</p>\n",
       "</div>"
      ],
      "text/plain": [
       "      i#clientid        income        age         loan  c#default  grupo\n",
       "0              1  66155.925095  59.017015  8106.532131          0      0\n",
       "1              2  34415.153966  48.117153  6564.745018          0      0\n",
       "2              3  57317.170063  63.108049  8020.953296          0      0\n",
       "3              4  42709.534201  45.751972  6103.642260          0      0\n",
       "4              5  66952.688845  18.584336  8770.099235          1      0\n",
       "...          ...           ...        ...          ...        ...    ...\n",
       "996          997  49104.768240  35.538517  9452.217947          0      0\n",
       "997          998  65776.232413  39.798191  2805.863745          0      0\n",
       "998          999  36192.149452  21.402403  7236.173930          1      0\n",
       "999         1000  62165.861186  19.602543  4739.948954          0      0\n",
       "1000        1001  50793.355720  41.601886   421.640380          0      0\n",
       "\n",
       "[1001 rows x 6 columns]"
      ]
     },
     "execution_count": 39,
     "metadata": {},
     "output_type": "execute_result"
    }
   ],
   "source": [
    "# Amostragem por grupos\n",
    "\n",
    "def amostragem_agrupamento1(credit, numero_grupos):\n",
    "    intervalo = len(credit) / numero_grupos\n",
    "    \n",
    "    grupos = []\n",
    "    id_grupo = 0\n",
    "    contagem = 0\n",
    "    for _ in credit.iterrows():\n",
    "        grupos.append(id_grupo)\n",
    "        contagem += 1\n",
    "        if contagem > intervalo:\n",
    "            contagem = 0\n",
    "            id_grupo += 1\n",
    "    credit['grupo'] = grupos\n",
    "    random.seed(1)\n",
    "    grupo_selecionado = random.randint(0, numero_grupos)\n",
    "    return credit[credit['grupo'] == grupo_selecionado]\n",
    "\n",
    "amostragem_agrupamento1(credit, 2)"
   ]
  },
  {
   "cell_type": "code",
   "execution_count": 40,
   "id": "89e2d3eb",
   "metadata": {},
   "outputs": [
    {
     "data": {
      "text/html": [
       "<div>\n",
       "<style scoped>\n",
       "    .dataframe tbody tr th:only-of-type {\n",
       "        vertical-align: middle;\n",
       "    }\n",
       "\n",
       "    .dataframe tbody tr th {\n",
       "        vertical-align: top;\n",
       "    }\n",
       "\n",
       "    .dataframe thead th {\n",
       "        text-align: right;\n",
       "    }\n",
       "</style>\n",
       "<table border=\"1\" class=\"dataframe\">\n",
       "  <thead>\n",
       "    <tr style=\"text-align: right;\">\n",
       "      <th></th>\n",
       "      <th>i#clientid</th>\n",
       "      <th>income</th>\n",
       "      <th>age</th>\n",
       "      <th>loan</th>\n",
       "      <th>c#default</th>\n",
       "      <th>grupo</th>\n",
       "    </tr>\n",
       "  </thead>\n",
       "  <tbody>\n",
       "    <tr>\n",
       "      <th>1374</th>\n",
       "      <td>1375</td>\n",
       "      <td>35916.704154</td>\n",
       "      <td>53.540443</td>\n",
       "      <td>6401.189486</td>\n",
       "      <td>0</td>\n",
       "      <td>1</td>\n",
       "    </tr>\n",
       "    <tr>\n",
       "      <th>253</th>\n",
       "      <td>254</td>\n",
       "      <td>25259.401631</td>\n",
       "      <td>39.739766</td>\n",
       "      <td>4341.008082</td>\n",
       "      <td>0</td>\n",
       "      <td>0</td>\n",
       "    </tr>\n",
       "    <tr>\n",
       "      <th>1149</th>\n",
       "      <td>1150</td>\n",
       "      <td>56317.082820</td>\n",
       "      <td>24.653482</td>\n",
       "      <td>8045.440953</td>\n",
       "      <td>1</td>\n",
       "      <td>1</td>\n",
       "    </tr>\n",
       "    <tr>\n",
       "      <th>1453</th>\n",
       "      <td>1454</td>\n",
       "      <td>28630.009508</td>\n",
       "      <td>27.291530</td>\n",
       "      <td>4406.995056</td>\n",
       "      <td>1</td>\n",
       "      <td>1</td>\n",
       "    </tr>\n",
       "    <tr>\n",
       "      <th>1929</th>\n",
       "      <td>1930</td>\n",
       "      <td>27514.088473</td>\n",
       "      <td>36.278684</td>\n",
       "      <td>192.144611</td>\n",
       "      <td>0</td>\n",
       "      <td>1</td>\n",
       "    </tr>\n",
       "    <tr>\n",
       "      <th>...</th>\n",
       "      <td>...</td>\n",
       "      <td>...</td>\n",
       "      <td>...</td>\n",
       "      <td>...</td>\n",
       "      <td>...</td>\n",
       "      <td>...</td>\n",
       "    </tr>\n",
       "    <tr>\n",
       "      <th>359</th>\n",
       "      <td>360</td>\n",
       "      <td>47904.341242</td>\n",
       "      <td>40.039270</td>\n",
       "      <td>6183.514146</td>\n",
       "      <td>0</td>\n",
       "      <td>0</td>\n",
       "    </tr>\n",
       "    <tr>\n",
       "      <th>496</th>\n",
       "      <td>497</td>\n",
       "      <td>59998.253272</td>\n",
       "      <td>54.308927</td>\n",
       "      <td>4659.535976</td>\n",
       "      <td>0</td>\n",
       "      <td>0</td>\n",
       "    </tr>\n",
       "    <tr>\n",
       "      <th>864</th>\n",
       "      <td>865</td>\n",
       "      <td>21856.233529</td>\n",
       "      <td>47.722768</td>\n",
       "      <td>1500.653745</td>\n",
       "      <td>0</td>\n",
       "      <td>0</td>\n",
       "    </tr>\n",
       "    <tr>\n",
       "      <th>1118</th>\n",
       "      <td>1119</td>\n",
       "      <td>20897.426694</td>\n",
       "      <td>28.029320</td>\n",
       "      <td>2940.423970</td>\n",
       "      <td>1</td>\n",
       "      <td>1</td>\n",
       "    </tr>\n",
       "    <tr>\n",
       "      <th>1254</th>\n",
       "      <td>1255</td>\n",
       "      <td>44743.551633</td>\n",
       "      <td>53.056262</td>\n",
       "      <td>2574.707756</td>\n",
       "      <td>0</td>\n",
       "      <td>1</td>\n",
       "    </tr>\n",
       "  </tbody>\n",
       "</table>\n",
       "<p>1000 rows × 6 columns</p>\n",
       "</div>"
      ],
      "text/plain": [
       "      i#clientid        income        age         loan  c#default  grupo\n",
       "1374        1375  35916.704154  53.540443  6401.189486          0      1\n",
       "253          254  25259.401631  39.739766  4341.008082          0      0\n",
       "1149        1150  56317.082820  24.653482  8045.440953          1      1\n",
       "1453        1454  28630.009508  27.291530  4406.995056          1      1\n",
       "1929        1930  27514.088473  36.278684   192.144611          0      1\n",
       "...          ...           ...        ...          ...        ...    ...\n",
       "359          360  47904.341242  40.039270  6183.514146          0      0\n",
       "496          497  59998.253272  54.308927  4659.535976          0      0\n",
       "864          865  21856.233529  47.722768  1500.653745          0      0\n",
       "1118        1119  20897.426694  28.029320  2940.423970          1      1\n",
       "1254        1255  44743.551633  53.056262  2574.707756          0      1\n",
       "\n",
       "[1000 rows x 6 columns]"
      ]
     },
     "execution_count": 40,
     "metadata": {},
     "output_type": "execute_result"
    }
   ],
   "source": [
    "# Amostragem estratificada, sendo coletado da coluna 'c#default'\n",
    "\n",
    "def amostragem_estratificada1(credit, percentual, campo):\n",
    "    split = StratifiedShuffleSplit(test_size=percentual, random_state=1)\n",
    "    for _, y in split.split(credit, credit[campo]): #x coloca 90% e y 10%\n",
    "        df_y = credit.iloc[y]\n",
    "    return df_y\n",
    "\n",
    "amostragem_estratificada1(credit, 0.5, 'c#default')"
   ]
  },
  {
   "cell_type": "code",
   "execution_count": 41,
   "id": "7ea596d8",
   "metadata": {},
   "outputs": [
    {
     "data": {
      "text/html": [
       "<div>\n",
       "<style scoped>\n",
       "    .dataframe tbody tr th:only-of-type {\n",
       "        vertical-align: middle;\n",
       "    }\n",
       "\n",
       "    .dataframe tbody tr th {\n",
       "        vertical-align: top;\n",
       "    }\n",
       "\n",
       "    .dataframe thead th {\n",
       "        text-align: right;\n",
       "    }\n",
       "</style>\n",
       "<table border=\"1\" class=\"dataframe\">\n",
       "  <thead>\n",
       "    <tr style=\"text-align: right;\">\n",
       "      <th></th>\n",
       "      <th>i#clientid</th>\n",
       "      <th>income</th>\n",
       "      <th>age</th>\n",
       "      <th>loan</th>\n",
       "      <th>c#default</th>\n",
       "      <th>grupo</th>\n",
       "    </tr>\n",
       "  </thead>\n",
       "  <tbody>\n",
       "    <tr>\n",
       "      <th>0</th>\n",
       "      <td>1</td>\n",
       "      <td>66155.925095</td>\n",
       "      <td>59.017015</td>\n",
       "      <td>8106.532131</td>\n",
       "      <td>0</td>\n",
       "      <td>0</td>\n",
       "    </tr>\n",
       "    <tr>\n",
       "      <th>1649</th>\n",
       "      <td>1650</td>\n",
       "      <td>62219.037539</td>\n",
       "      <td>19.523983</td>\n",
       "      <td>5831.521429</td>\n",
       "      <td>0</td>\n",
       "      <td>1</td>\n",
       "    </tr>\n",
       "    <tr>\n",
       "      <th>2</th>\n",
       "      <td>3</td>\n",
       "      <td>57317.170063</td>\n",
       "      <td>63.108049</td>\n",
       "      <td>8020.953296</td>\n",
       "      <td>0</td>\n",
       "      <td>0</td>\n",
       "    </tr>\n",
       "    <tr>\n",
       "      <th>1114</th>\n",
       "      <td>1115</td>\n",
       "      <td>37887.549393</td>\n",
       "      <td>24.415726</td>\n",
       "      <td>5061.777831</td>\n",
       "      <td>1</td>\n",
       "      <td>1</td>\n",
       "    </tr>\n",
       "    <tr>\n",
       "      <th>1023</th>\n",
       "      <td>1024</td>\n",
       "      <td>68414.120777</td>\n",
       "      <td>51.046781</td>\n",
       "      <td>6154.052457</td>\n",
       "      <td>0</td>\n",
       "      <td>1</td>\n",
       "    </tr>\n",
       "    <tr>\n",
       "      <th>...</th>\n",
       "      <td>...</td>\n",
       "      <td>...</td>\n",
       "      <td>...</td>\n",
       "      <td>...</td>\n",
       "      <td>...</td>\n",
       "      <td>...</td>\n",
       "    </tr>\n",
       "    <tr>\n",
       "      <th>1476</th>\n",
       "      <td>1477</td>\n",
       "      <td>46024.144562</td>\n",
       "      <td>24.174516</td>\n",
       "      <td>4318.377722</td>\n",
       "      <td>0</td>\n",
       "      <td>1</td>\n",
       "    </tr>\n",
       "    <tr>\n",
       "      <th>996</th>\n",
       "      <td>997</td>\n",
       "      <td>49104.768240</td>\n",
       "      <td>35.538517</td>\n",
       "      <td>9452.217947</td>\n",
       "      <td>0</td>\n",
       "      <td>0</td>\n",
       "    </tr>\n",
       "    <tr>\n",
       "      <th>997</th>\n",
       "      <td>998</td>\n",
       "      <td>65776.232413</td>\n",
       "      <td>39.798191</td>\n",
       "      <td>2805.863745</td>\n",
       "      <td>0</td>\n",
       "      <td>0</td>\n",
       "    </tr>\n",
       "    <tr>\n",
       "      <th>998</th>\n",
       "      <td>999</td>\n",
       "      <td>36192.149452</td>\n",
       "      <td>21.402403</td>\n",
       "      <td>7236.173930</td>\n",
       "      <td>1</td>\n",
       "      <td>0</td>\n",
       "    </tr>\n",
       "    <tr>\n",
       "      <th>1573</th>\n",
       "      <td>1574</td>\n",
       "      <td>68503.205890</td>\n",
       "      <td>19.280535</td>\n",
       "      <td>3580.463677</td>\n",
       "      <td>0</td>\n",
       "      <td>1</td>\n",
       "    </tr>\n",
       "  </tbody>\n",
       "</table>\n",
       "<p>1000 rows × 6 columns</p>\n",
       "</div>"
      ],
      "text/plain": [
       "      i#clientid        income        age         loan  c#default  grupo\n",
       "0              1  66155.925095  59.017015  8106.532131          0      0\n",
       "1649        1650  62219.037539  19.523983  5831.521429          0      1\n",
       "2              3  57317.170063  63.108049  8020.953296          0      0\n",
       "1114        1115  37887.549393  24.415726  5061.777831          1      1\n",
       "1023        1024  68414.120777  51.046781  6154.052457          0      1\n",
       "...          ...           ...        ...          ...        ...    ...\n",
       "1476        1477  46024.144562  24.174516  4318.377722          0      1\n",
       "996          997  49104.768240  35.538517  9452.217947          0      0\n",
       "997          998  65776.232413  39.798191  2805.863745          0      0\n",
       "998          999  36192.149452  21.402403  7236.173930          1      0\n",
       "1573        1574  68503.205890  19.280535  3580.463677          0      1\n",
       "\n",
       "[1000 rows x 6 columns]"
      ]
     },
     "execution_count": 41,
     "metadata": {},
     "output_type": "execute_result"
    }
   ],
   "source": [
    "# Amostragem de reservatório\n",
    "\n",
    "def amostragem_reservatorio1(credit, amostras):\n",
    "    stream = []\n",
    "    for i in range(len(credit)):\n",
    "        stream.append(i)\n",
    "    \n",
    "    i = 0\n",
    "    tamanho = len(credit)\n",
    "    \n",
    "    reservatorio = [0] * amostras\n",
    "    for i in range(amostras):\n",
    "        reservatorio[i] = stream[i]\n",
    "    \n",
    "    while i < tamanho:\n",
    "        j = random.randrange(i + 1)\n",
    "        if j < amostras:\n",
    "            reservatorio[j] = stream[i]\n",
    "        i += 1\n",
    "    \n",
    "    return credit.iloc[reservatorio]\n",
    "\n",
    "amostragem_reservatorio1(credit, 1000)"
   ]
  },
  {
   "cell_type": "markdown",
   "id": "208a146c",
   "metadata": {},
   "source": [
    "### Preparando para os comparativos utlizando 'age', 'income' e 'loan'"
   ]
  },
  {
   "cell_type": "code",
   "execution_count": 71,
   "id": "93784bb3",
   "metadata": {},
   "outputs": [
    {
     "name": "stdout",
     "output_type": "stream",
     "text": [
      "A média na coluna age original é de 40.80755937840458\n",
      "A média na coluna income original é de 45331.60001779333\n",
      "A média na coluna loan original é de 4444.369694688262\n"
     ]
    }
   ],
   "source": [
    "# Calculando as médias para as colunas da base de dados original\n",
    "\n",
    "credit_age_mean = credit['age'].mean()\n",
    "credit_income_mean = credit['income'].mean()\n",
    "credit_loan_mean = credit['loan'].mean()\n",
    "\n",
    "print(f'A média na coluna age original é de {credit_age_mean}')\n",
    "print(f'A média na coluna income original é de {credit_income_mean}')\n",
    "print(f'A média na coluna loan original é de {credit_loan_mean}')"
   ]
  },
  {
   "cell_type": "code",
   "execution_count": 72,
   "id": "9bfb31db",
   "metadata": {},
   "outputs": [
    {
     "name": "stdout",
     "output_type": "stream",
     "text": [
      "A média na coluna age na amostragem aleatória simples é de 40.49552561124429\n",
      "A média na coluna income na amostragem aleatória simples é de 45563.26865376901\n",
      "A média na coluna loan na amostragem aleatória simples é de 4449.4469004423645\n"
     ]
    }
   ],
   "source": [
    "# Amostragem aleatória simples\n",
    "\n",
    "df_simples_credit = amostragem_aleatoria_simples1(credit, 1000)\n",
    "\n",
    "df_simples_age_credit = df_amostra_aleatoria_simples_credit['age'].mean()\n",
    "df_simples_income_credit = df_amostra_aleatoria_simples_credit['income'].mean()\n",
    "df_simples_loan_credit = df_amostra_aleatoria_simples_credit['loan'].mean()\n",
    "\n",
    "print(f'A média na coluna age na amostragem aleatória simples é de {df_simples_age_credit}')\n",
    "print(f'A média na coluna income na amostragem aleatória simples é de {df_simples_income_credit}')\n",
    "print(f'A média na coluna loan na amostragem aleatória simples é de {df_simples_loan_credit}')"
   ]
  },
  {
   "cell_type": "code",
   "execution_count": 73,
   "id": "f76c7dc7",
   "metadata": {},
   "outputs": [
    {
     "name": "stdout",
     "output_type": "stream",
     "text": [
      "A média na coluna age na amostragem sistemática é de 40.91117381141754\n",
      "A média na coluna income na amostragem sistemática é de 45691.49875066951\n",
      "A média na coluna loan na amostragem sistemática é de 4506.787976426329\n"
     ]
    }
   ],
   "source": [
    "# Amostragem sistemática\n",
    "\n",
    "df_amostra_sistematica_credit = amostragem_sistematica1(credit, 1000)\n",
    "\n",
    "df_sistematica_age_credit = df_amostra_sistematica_credit['age'].mean()\n",
    "df_sistematica_income_credit = df_amostra_sistematica_credit['income'].mean()\n",
    "df_sistematica_loan_credit = df_amostra_sistematica_credit['loan'].mean()\n",
    "\n",
    "print(f'A média na coluna age na amostragem sistemática é de {df_sistematica_age_credit}')\n",
    "print(f'A média na coluna income na amostragem sistemática é de {df_sistematica_income_credit}')\n",
    "print(f'A média na coluna loan na amostragem sistemática é de {df_sistematica_loan_credit}')"
   ]
  },
  {
   "cell_type": "code",
   "execution_count": 74,
   "id": "349868f9",
   "metadata": {},
   "outputs": [
    {
     "name": "stdout",
     "output_type": "stream",
     "text": [
      "A média na coluna age na amostragem por grupos é de 41.0432231120503\n",
      "A média na coluna income na amostragem por grupos é de 44846.74925986142\n",
      "A média na coluna loan na amostragem por grupos é de 4390.1614937442055\n"
     ]
    }
   ],
   "source": [
    "# Amostragem por grupos\n",
    "\n",
    "df_amostra_grupos_credit = amostragem_agrupamento1(credit, 2)\n",
    "\n",
    "df_grupos_age_credit = df_amostra_grupos_credit['age'].mean()\n",
    "df_grupos_income_credit = df_amostra_grupos_credit['income'].mean()\n",
    "df_grupos_loan_credit = df_amostra_grupos_credit['loan'].mean()\n",
    "\n",
    "print(f'A média na coluna age na amostragem por grupos é de {df_grupos_age_credit}')\n",
    "print(f'A média na coluna income na amostragem por grupos é de {df_grupos_income_credit}')\n",
    "print(f'A média na coluna loan na amostragem por grupos é de {df_grupos_loan_credit}')"
   ]
  },
  {
   "cell_type": "code",
   "execution_count": 75,
   "id": "bcc02c67",
   "metadata": {},
   "outputs": [
    {
     "name": "stdout",
     "output_type": "stream",
     "text": [
      "A média na coluna age na amostragem estratificada é de 40.53363707173919\n",
      "A média na coluna income na amostragem estratificada é de 45101.36675026739\n",
      "A média na coluna loan na amostragem estratificada é de 4423.744651094196\n"
     ]
    }
   ],
   "source": [
    "# Amostragem estratificada\n",
    "\n",
    "df_amostra_estratificada_credit = amostragem_estratificada1(credit, 0.5, 'c#default')\n",
    "\n",
    "df_estratificada_age_credit = df_amostra_estratificada_credit['age'].mean()\n",
    "df_estratificada_income_credit = df_amostra_estratificada_credit['income'].mean()\n",
    "df_estratificada_loan_credit = df_amostra_estratificada_credit['loan'].mean()\n",
    "\n",
    "print(f'A média na coluna age na amostragem estratificada é de {df_estratificada_age_credit}')\n",
    "print(f'A média na coluna income na amostragem estratificada é de {df_estratificada_income_credit}')\n",
    "print(f'A média na coluna loan na amostragem estratificada é de {df_estratificada_loan_credit}')"
   ]
  },
  {
   "cell_type": "code",
   "execution_count": 77,
   "id": "b36757b0",
   "metadata": {},
   "outputs": [
    {
     "name": "stdout",
     "output_type": "stream",
     "text": [
      "A média na coluna age na amostragem de reservatório é de 41.05617173205278\n",
      "A média na coluna income na amostragem de reservatório é de 44974.18548403079\n",
      "A média na coluna loan na amostragem de reservatório é de 4335.577667069038\n"
     ]
    }
   ],
   "source": [
    "# Amostragem de reservatório\n",
    "\n",
    "df_amostra_reservatorio_credit = amostragem_reservatorio1(credit, 1000)\n",
    "\n",
    "df_reservatorio_age_credit = df_amostra_reservatorio_credit['age'].mean()\n",
    "df_reservatorio_income_credit = df_amostra_reservatorio_credit['income'].mean()\n",
    "df_reservatorio_loan_credit = df_amostra_reservatorio_credit['loan'].mean()\n",
    "\n",
    "print(f'A média na coluna age na amostragem de reservatório é de {df_reservatorio_age_credit}')\n",
    "print(f'A média na coluna income na amostragem de reservatório é de {df_reservatorio_income_credit}')\n",
    "print(f'A média na coluna loan na amostragem de reservatório é de {df_reservatorio_loan_credit}')"
   ]
  }
 ],
 "metadata": {
  "kernelspec": {
   "display_name": "Python 3 (ipykernel)",
   "language": "python",
   "name": "python3"
  },
  "language_info": {
   "codemirror_mode": {
    "name": "ipython",
    "version": 3
   },
   "file_extension": ".py",
   "mimetype": "text/x-python",
   "name": "python",
   "nbconvert_exporter": "python",
   "pygments_lexer": "ipython3",
   "version": "3.9.12"
  }
 },
 "nbformat": 4,
 "nbformat_minor": 5
}
